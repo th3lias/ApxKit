{
 "cells": [
  {
   "cell_type": "code",
   "execution_count": 1,
   "id": "initial_id",
   "metadata": {
    "collapsed": true,
    "ExecuteTime": {
     "end_time": "2024-08-25T15:13:46.069150Z",
     "start_time": "2024-08-25T15:13:45.874068Z"
    }
   },
   "outputs": [],
   "source": [
    "import Tasmanian\n",
    "import TasmanianSG"
   ]
  },
  {
   "cell_type": "code",
   "outputs": [
    {
     "data": {
      "text/plain": "['level',\n 'curved',\n 'iptotal',\n 'ipcurved',\n 'qptotal',\n 'qpcurved',\n 'hyperbolic',\n 'iphyperbolic',\n 'qphyperbolic',\n 'tensor',\n 'iptensor',\n 'qptensor']"
     },
     "execution_count": 2,
     "metadata": {},
     "output_type": "execute_result"
    }
   ],
   "source": [
    "TasmanianSG.lsTsgGlobalTypes"
   ],
   "metadata": {
    "collapsed": false,
    "ExecuteTime": {
     "end_time": "2024-08-25T15:13:46.073078Z",
     "start_time": "2024-08-25T15:13:46.070156Z"
    }
   },
   "id": "86bb78907378e60",
   "execution_count": 2
  },
  {
   "cell_type": "code",
   "outputs": [
    {
     "data": {
      "text/plain": "['clenshaw-curtis',\n 'clenshaw-curtis-zero',\n 'chebyshev',\n 'chebyshev-odd',\n 'gauss-legendre',\n 'gauss-legendre-odd',\n 'gauss-patterson',\n 'leja',\n 'leja-odd',\n 'rleja',\n 'rleja-odd',\n 'rleja-double2',\n 'rleja-double4',\n 'rleja-shifted',\n 'rleja-shifted-even',\n 'rleja-shifted-double',\n 'max-lebesgue',\n 'max-lebesgue-odd',\n 'min-lebesgue',\n 'min-lebesgue-odd',\n 'min-delta',\n 'min-delta-odd',\n 'gauss-chebyshev1',\n 'gauss-chebyshev1-odd',\n 'gauss-chebyshev2',\n 'gauss-chebyshev2-odd',\n 'fejer2',\n 'gauss-gegenbauer',\n 'gauss-gegenbauer-odd',\n 'gauss-jacobi',\n 'gauss-jacobi-odd',\n 'gauss-laguerre',\n 'gauss-laguerre-odd',\n 'gauss-hermite',\n 'gauss-hermite-odd',\n 'custom-tabulated']"
     },
     "execution_count": 3,
     "metadata": {},
     "output_type": "execute_result"
    }
   ],
   "source": [
    "Tasmanian.lsTsgGlobalRules"
   ],
   "metadata": {
    "collapsed": false,
    "ExecuteTime": {
     "end_time": "2024-08-25T15:13:46.076194Z",
     "start_time": "2024-08-25T15:13:46.073889Z"
    }
   },
   "id": "41a14399958e42b0",
   "execution_count": 3
  },
  {
   "cell_type": "code",
   "outputs": [],
   "source": [
    "grid = Tasmanian.TasmanianSparseGrid()\n",
    "grid.makeGlobalGrid(iDimension=2, iOutputs=1, iDepth=5, sType='level', sRule='clenshaw-curtis')"
   ],
   "metadata": {
    "collapsed": false,
    "ExecuteTime": {
     "end_time": "2024-08-25T15:13:46.079816Z",
     "start_time": "2024-08-25T15:13:46.076908Z"
    }
   },
   "id": "81b70aba8890caf4",
   "execution_count": 4
  },
  {
   "cell_type": "code",
   "outputs": [
    {
     "data": {
      "text/plain": "numpy.ndarray"
     },
     "execution_count": 5,
     "metadata": {},
     "output_type": "execute_result"
    }
   ],
   "source": [
    "type(grid.getPoints())"
   ],
   "metadata": {
    "collapsed": false,
    "ExecuteTime": {
     "end_time": "2024-08-25T15:13:46.140738Z",
     "start_time": "2024-08-25T15:13:46.137657Z"
    }
   },
   "id": "48f7daef688df03e",
   "execution_count": 5
  },
  {
   "cell_type": "code",
   "outputs": [
    {
     "data": {
      "text/plain": "array([[ 0.        ,  0.        ],\n       [ 0.        , -1.        ],\n       [ 0.        ,  1.        ],\n       [ 0.        , -0.70710678],\n       [ 0.        ,  0.70710678],\n       [ 0.        , -0.92387953],\n       [ 0.        , -0.38268343],\n       [ 0.        ,  0.38268343],\n       [ 0.        ,  0.92387953],\n       [ 0.        , -0.98078528],\n       [ 0.        , -0.83146961],\n       [ 0.        , -0.55557023],\n       [ 0.        , -0.19509032],\n       [ 0.        ,  0.19509032],\n       [ 0.        ,  0.55557023],\n       [ 0.        ,  0.83146961],\n       [ 0.        ,  0.98078528],\n       [ 0.        , -0.99518473],\n       [ 0.        , -0.95694034],\n       [ 0.        , -0.88192126],\n       [ 0.        , -0.77301045],\n       [ 0.        , -0.63439328],\n       [ 0.        , -0.47139674],\n       [ 0.        , -0.29028468],\n       [ 0.        , -0.09801714],\n       [ 0.        ,  0.09801714],\n       [ 0.        ,  0.29028468],\n       [ 0.        ,  0.47139674],\n       [ 0.        ,  0.63439328],\n       [ 0.        ,  0.77301045],\n       [ 0.        ,  0.88192126],\n       [ 0.        ,  0.95694034],\n       [ 0.        ,  0.99518473],\n       [-1.        ,  0.        ],\n       [-1.        , -1.        ],\n       [-1.        ,  1.        ],\n       [-1.        , -0.70710678],\n       [-1.        ,  0.70710678],\n       [-1.        , -0.92387953],\n       [-1.        , -0.38268343],\n       [-1.        ,  0.38268343],\n       [-1.        ,  0.92387953],\n       [-1.        , -0.98078528],\n       [-1.        , -0.83146961],\n       [-1.        , -0.55557023],\n       [-1.        , -0.19509032],\n       [-1.        ,  0.19509032],\n       [-1.        ,  0.55557023],\n       [-1.        ,  0.83146961],\n       [-1.        ,  0.98078528],\n       [ 1.        ,  0.        ],\n       [ 1.        , -1.        ],\n       [ 1.        ,  1.        ],\n       [ 1.        , -0.70710678],\n       [ 1.        ,  0.70710678],\n       [ 1.        , -0.92387953],\n       [ 1.        , -0.38268343],\n       [ 1.        ,  0.38268343],\n       [ 1.        ,  0.92387953],\n       [ 1.        , -0.98078528],\n       [ 1.        , -0.83146961],\n       [ 1.        , -0.55557023],\n       [ 1.        , -0.19509032],\n       [ 1.        ,  0.19509032],\n       [ 1.        ,  0.55557023],\n       [ 1.        ,  0.83146961],\n       [ 1.        ,  0.98078528],\n       [-0.70710678,  0.        ],\n       [-0.70710678, -1.        ],\n       [-0.70710678,  1.        ],\n       [-0.70710678, -0.70710678],\n       [-0.70710678,  0.70710678],\n       [-0.70710678, -0.92387953],\n       [-0.70710678, -0.38268343],\n       [-0.70710678,  0.38268343],\n       [-0.70710678,  0.92387953],\n       [ 0.70710678,  0.        ],\n       [ 0.70710678, -1.        ],\n       [ 0.70710678,  1.        ],\n       [ 0.70710678, -0.70710678],\n       [ 0.70710678,  0.70710678],\n       [ 0.70710678, -0.92387953],\n       [ 0.70710678, -0.38268343],\n       [ 0.70710678,  0.38268343],\n       [ 0.70710678,  0.92387953],\n       [-0.92387953,  0.        ],\n       [-0.92387953, -1.        ],\n       [-0.92387953,  1.        ],\n       [-0.92387953, -0.70710678],\n       [-0.92387953,  0.70710678],\n       [-0.38268343,  0.        ],\n       [-0.38268343, -1.        ],\n       [-0.38268343,  1.        ],\n       [-0.38268343, -0.70710678],\n       [-0.38268343,  0.70710678],\n       [ 0.38268343,  0.        ],\n       [ 0.38268343, -1.        ],\n       [ 0.38268343,  1.        ],\n       [ 0.38268343, -0.70710678],\n       [ 0.38268343,  0.70710678],\n       [ 0.92387953,  0.        ],\n       [ 0.92387953, -1.        ],\n       [ 0.92387953,  1.        ],\n       [ 0.92387953, -0.70710678],\n       [ 0.92387953,  0.70710678],\n       [-0.98078528,  0.        ],\n       [-0.98078528, -1.        ],\n       [-0.98078528,  1.        ],\n       [-0.83146961,  0.        ],\n       [-0.83146961, -1.        ],\n       [-0.83146961,  1.        ],\n       [-0.55557023,  0.        ],\n       [-0.55557023, -1.        ],\n       [-0.55557023,  1.        ],\n       [-0.19509032,  0.        ],\n       [-0.19509032, -1.        ],\n       [-0.19509032,  1.        ],\n       [ 0.19509032,  0.        ],\n       [ 0.19509032, -1.        ],\n       [ 0.19509032,  1.        ],\n       [ 0.55557023,  0.        ],\n       [ 0.55557023, -1.        ],\n       [ 0.55557023,  1.        ],\n       [ 0.83146961,  0.        ],\n       [ 0.83146961, -1.        ],\n       [ 0.83146961,  1.        ],\n       [ 0.98078528,  0.        ],\n       [ 0.98078528, -1.        ],\n       [ 0.98078528,  1.        ],\n       [-0.99518473,  0.        ],\n       [-0.95694034,  0.        ],\n       [-0.88192126,  0.        ],\n       [-0.77301045,  0.        ],\n       [-0.63439328,  0.        ],\n       [-0.47139674,  0.        ],\n       [-0.29028468,  0.        ],\n       [-0.09801714,  0.        ],\n       [ 0.09801714,  0.        ],\n       [ 0.29028468,  0.        ],\n       [ 0.47139674,  0.        ],\n       [ 0.63439328,  0.        ],\n       [ 0.77301045,  0.        ],\n       [ 0.88192126,  0.        ],\n       [ 0.95694034,  0.        ],\n       [ 0.99518473,  0.        ]])"
     },
     "execution_count": 6,
     "metadata": {},
     "output_type": "execute_result"
    }
   ],
   "source": [
    "grid.getNeededPoints()"
   ],
   "metadata": {
    "collapsed": false,
    "ExecuteTime": {
     "end_time": "2024-08-25T15:13:46.506325Z",
     "start_time": "2024-08-25T15:13:46.501453Z"
    }
   },
   "id": "ff8a9ea7b0b2e04a",
   "execution_count": 6
  },
  {
   "cell_type": "code",
   "outputs": [
    {
     "data": {
      "text/plain": "<Figure size 640x480 with 1 Axes>",
      "image/png": "[encoded data removed]"
     },
     "metadata": {},
     "output_type": "display_data"
    }
   ],
   "source": [
    "grid.plotPoints2D()"
   ],
   "metadata": {
    "collapsed": false,
    "ExecuteTime": {
     "end_time": "2024-08-25T15:13:46.936793Z",
     "start_time": "2024-08-25T15:13:46.875776Z"
    }
   },
   "id": "7c659d687dc37860",
   "execution_count": 7
  },
  {
   "cell_type": "code",
   "outputs": [
    {
     "data": {
      "text/plain": "False"
     },
     "execution_count": 8,
     "metadata": {},
     "output_type": "execute_result"
    }
   ],
   "source": [
    "grid.isSequence()"
   ],
   "metadata": {
    "collapsed": false,
    "ExecuteTime": {
     "end_time": "2024-08-25T15:13:47.181682Z",
     "start_time": "2024-08-25T15:13:47.178499Z"
    }
   },
   "id": "e5c2da70c7a2b6d6",
   "execution_count": 8
  },
  {
   "cell_type": "code",
   "outputs": [],
   "source": [
    "pts = grid.getNeededPoints()"
   ],
   "metadata": {
    "collapsed": false,
    "ExecuteTime": {
     "end_time": "2024-08-25T15:14:01.835346Z",
     "start_time": "2024-08-25T15:14:01.833487Z"
    }
   },
   "id": "454de2e7f10eb159",
   "execution_count": 12
  },
  {
   "cell_type": "code",
   "outputs": [
    {
     "data": {
      "text/plain": "(145, 2)"
     },
     "execution_count": 14,
     "metadata": {},
     "output_type": "execute_result"
    }
   ],
   "source": [
    "pts.shape"
   ],
   "metadata": {
    "collapsed": false,
    "ExecuteTime": {
     "end_time": "2024-08-25T15:14:31.175842Z",
     "start_time": "2024-08-25T15:14:31.172660Z"
    }
   },
   "id": "bc63017cc0478202",
   "execution_count": 14
  },
  {
   "cell_type": "code",
   "outputs": [],
   "source": [
    "import numpy as np\n",
    "vals = np.exp(-np.sum(pts**2, axis=1))\n",
    "grid.loadNeededValues(vals.reshape(-1, 1))"
   ],
   "metadata": {
    "collapsed": false,
    "ExecuteTime": {
     "end_time": "2024-08-25T15:15:02.326351Z",
     "start_time": "2024-08-25T15:15:02.323505Z"
    }
   },
   "id": "59590d8262cd2d49",
   "execution_count": 15
  },
  {
   "cell_type": "code",
   "outputs": [
    {
     "data": {
      "text/plain": "array([1.        , 0.36787944, 0.36787944, 0.60653066, 0.60653066,\n       0.42589885, 0.86377185, 0.86377185, 0.42589885, 0.38215088,\n       0.50090355, 0.73443169, 0.96265495, 0.96265495, 0.73443169,\n       0.50090355, 0.38215088, 0.37143082, 0.40022243, 0.45942245,\n       0.55016054, 0.66867654, 0.80074328, 0.91918746, 0.99043864,\n       0.99043864, 0.91918746, 0.80074328, 0.66867654, 0.55016054,\n       0.45942245, 0.40022243, 0.37143082, 0.36787944, 0.13533528,\n       0.13533528, 0.22313016, 0.22313016, 0.15667943, 0.3177639 ,\n       0.3177639 , 0.15667943, 0.14058545, 0.18427212, 0.27018232,\n       0.35414097, 0.35414097, 0.27018232, 0.18427212, 0.14058545,\n       0.36787944, 0.13533528, 0.13533528, 0.22313016, 0.22313016,\n       0.15667943, 0.3177639 , 0.3177639 , 0.15667943, 0.14058545,\n       0.18427212, 0.27018232, 0.35414097, 0.35414097, 0.27018232,\n       0.18427212, 0.14058545, 0.60653066, 0.22313016, 0.22313016,\n       0.36787944, 0.36787944, 0.25832071, 0.52390411, 0.52390411,\n       0.25832071, 0.60653066, 0.22313016, 0.22313016, 0.36787944,\n       0.36787944, 0.25832071, 0.52390411, 0.52390411, 0.25832071,\n       0.42589885, 0.15667943, 0.15667943, 0.25832071, 0.25832071,\n       0.86377185, 0.3177639 , 0.3177639 , 0.52390411, 0.52390411,\n       0.86377185, 0.3177639 , 0.3177639 , 0.52390411, 0.52390411,\n       0.42589885, 0.15667943, 0.15667943, 0.25832071, 0.25832071,\n       0.38215088, 0.14058545, 0.14058545, 0.50090355, 0.18427212,\n       0.18427212, 0.73443169, 0.27018232, 0.27018232, 0.96265495,\n       0.35414097, 0.35414097, 0.96265495, 0.35414097, 0.35414097,\n       0.73443169, 0.27018232, 0.27018232, 0.50090355, 0.18427212,\n       0.18427212, 0.38215088, 0.14058545, 0.14058545, 0.37143082,\n       0.40022243, 0.45942245, 0.55016054, 0.66867654, 0.80074328,\n       0.91918746, 0.99043864, 0.99043864, 0.91918746, 0.80074328,\n       0.66867654, 0.55016054, 0.45942245, 0.40022243, 0.37143082])"
     },
     "execution_count": 20,
     "metadata": {},
     "output_type": "execute_result"
    }
   ],
   "source": [
    "vals"
   ],
   "metadata": {
    "collapsed": false,
    "ExecuteTime": {
     "end_time": "2024-08-25T15:16:14.352173Z",
     "start_time": "2024-08-25T15:16:14.348607Z"
    }
   },
   "id": "3004ba4f78223342",
   "execution_count": 20
  },
  {
   "cell_type": "code",
   "outputs": [
    {
     "data": {
      "text/plain": "array([0.60650633])"
     },
     "execution_count": 23,
     "metadata": {},
     "output_type": "execute_result"
    }
   ],
   "source": [
    "res = grid.evaluate(np.array([.5, .5]))\n",
    "res"
   ],
   "metadata": {
    "collapsed": false,
    "ExecuteTime": {
     "end_time": "2024-08-25T15:17:17.634870Z",
     "start_time": "2024-08-25T15:17:17.628807Z"
    }
   },
   "id": "5136a67ebf2741b5",
   "execution_count": 23
  },
  {
   "cell_type": "code",
   "outputs": [],
   "source": [
    "from numba import types, typed, njit\n",
    "import numpy as np\n",
    "int_array = types.int32[:]"
   ],
   "metadata": {
    "collapsed": false,
    "ExecuteTime": {
     "end_time": "2024-08-25T21:00:39.415598Z",
     "start_time": "2024-08-25T21:00:39.413321Z"
    }
   },
   "id": "2dbff7a0d5a63f0e",
   "execution_count": 36
  },
  {
   "cell_type": "code",
   "outputs": [],
   "source": [
    "@njit\n",
    "def get_smolyak_ranges(n: int) -> types.DictType:\n",
    "    chain = typed.Dict.empty(key_type=types.int32, value_type=int_array)\n",
    "    chain[1] = np.ones(1, dtype=np.int32)\n",
    "    chain[2] = np.arange(1, 3, dtype=np.int32)\n",
    "    curr_val = 4\n",
    "    for i in range(3, n + 1):\n",
    "        # Compute 2^(i-1) + 1 using bitshift\n",
    "        end_val = (1 << (i - 1)) + 1\n",
    "        chain[i] = np.arange(curr_val, end_val + 1, dtype=np.int32)\n",
    "        curr_val = end_val + 1\n",
    "    return chain"
   ],
   "metadata": {
    "collapsed": false,
    "ExecuteTime": {
     "end_time": "2024-08-25T21:02:58.431018Z",
     "start_time": "2024-08-25T21:02:58.426534Z"
    }
   },
   "id": "51f7edc19ff90726",
   "execution_count": 45
  },
  {
   "cell_type": "code",
   "outputs": [
    {
     "name": "stdout",
     "output_type": "stream",
     "text": [
      "48.6 μs ± 3.31 μs per loop (mean ± std. dev. of 7 runs, 10,000 loops each)\n"
     ]
    }
   ],
   "source": [
    "%%timeit\n",
    "res = get_smolyak_ranges(20)"
   ],
   "metadata": {
    "collapsed": false,
    "ExecuteTime": {
     "end_time": "2024-08-25T21:03:02.743926Z",
     "start_time": "2024-08-25T21:02:58.712436Z"
    }
   },
   "id": "9e57ec7841d2069",
   "execution_count": 46
  },
  {
   "cell_type": "code",
   "outputs": [],
   "source": [
    "def _phi_chain(n):\n",
    "    aphi_chain = dict()\n",
    "    aphi_chain[1] = [1]\n",
    "    aphi_chain[2] = [2, 3]\n",
    "    curr_val = 4\n",
    "    for i in range(3, n + 1):\n",
    "        end_val = 2 ** (i - 1) + 1\n",
    "        temp = range(curr_val, end_val + 1)\n",
    "        aphi_chain[i] = temp\n",
    "        curr_val = end_val + 1\n",
    "    return aphi_chain"
   ],
   "metadata": {
    "collapsed": false,
    "ExecuteTime": {
     "end_time": "2024-08-25T21:03:02.746843Z",
     "start_time": "2024-08-25T21:03:02.744801Z"
    }
   },
   "id": "3c5a1b97f13183d4",
   "execution_count": 47
  },
  {
   "cell_type": "code",
   "outputs": [
    {
     "name": "stdout",
     "output_type": "stream",
     "text": [
      "4.91 μs ± 46.5 ns per loop (mean ± std. dev. of 7 runs, 100,000 loops each)\n"
     ]
    }
   ],
   "source": [
    "%%timeit\n",
    "res = _phi_chain(20)"
   ],
   "metadata": {
    "collapsed": false,
    "ExecuteTime": {
     "end_time": "2024-08-25T21:03:06.737828Z",
     "start_time": "2024-08-25T21:03:02.747442Z"
    }
   },
   "id": "13d6b652e88a2ab5",
   "execution_count": 48
  },
  {
   "cell_type": "code",
   "outputs": [],
   "source": [],
   "metadata": {
    "collapsed": false
   },
   "id": "bb8bb334510ff2b8"
  }
 ],
 "metadata": {
  "kernelspec": {
   "display_name": "Python 3",
   "language": "python",
   "name": "python3"
  },
  "language_info": {
   "codemirror_mode": {
    "name": "ipython",
    "version": 2
   },
   "file_extension": ".py",
   "mimetype": "text/x-python",
   "name": "python",
   "nbconvert_exporter": "python",
   "pygments_lexer": "ipython2",
   "version": "2.7.6"
  }
 },
 "nbformat": 4,
 "nbformat_minor": 5
}
